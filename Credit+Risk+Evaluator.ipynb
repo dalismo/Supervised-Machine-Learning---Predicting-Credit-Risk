{
 "cells": [
  {
   "cell_type": "code",
   "execution_count": 1,
   "metadata": {},
   "outputs": [],
   "source": [
    "import numpy as np\n",
    "import pandas as pd\n",
    "from sklearn.model_selection import train_test_split\n",
    "\n",
    "from sklearn.datasets import make_classification\n",
    "from sklearn.ensemble import RandomForestClassifier\n",
    "from sklearn.linear_model import LogisticRegression\n",
    "from sklearn.preprocessing import StandardScaler,MinMaxScaler\n",
    "from sklearn.metrics import confusion_matrix\n",
    "\n",
    "from imblearn.over_sampling import RandomOverSampler\n",
    "from imblearn.under_sampling import RandomUnderSampler\n",
    "from imblearn.over_sampling import SMOTE\n",
    "from imblearn.combine import SMOTEENN"
   ]
  },
  {
   "cell_type": "code",
   "execution_count": 2,
   "metadata": {},
   "outputs": [],
   "source": [
    "train_df = pd.read_csv('2019loans.csv')\n",
    "test_df = pd.read_csv('2020Q1loans.csv')\n"
   ]
  },
  {
   "cell_type": "code",
   "execution_count": 3,
   "metadata": {},
   "outputs": [
    {
     "data": {
      "text/html": [
       "<div>\n",
       "<style scoped>\n",
       "    .dataframe tbody tr th:only-of-type {\n",
       "        vertical-align: middle;\n",
       "    }\n",
       "\n",
       "    .dataframe tbody tr th {\n",
       "        vertical-align: top;\n",
       "    }\n",
       "\n",
       "    .dataframe thead th {\n",
       "        text-align: right;\n",
       "    }\n",
       "</style>\n",
       "<table border=\"1\" class=\"dataframe\">\n",
       "  <thead>\n",
       "    <tr style=\"text-align: right;\">\n",
       "      <th></th>\n",
       "      <th>Unnamed: 0</th>\n",
       "      <th>index</th>\n",
       "      <th>loan_amnt</th>\n",
       "      <th>int_rate</th>\n",
       "      <th>installment</th>\n",
       "      <th>home_ownership</th>\n",
       "      <th>annual_inc</th>\n",
       "      <th>verification_status</th>\n",
       "      <th>loan_status</th>\n",
       "      <th>pymnt_plan</th>\n",
       "      <th>...</th>\n",
       "      <th>pct_tl_nvr_dlq</th>\n",
       "      <th>percent_bc_gt_75</th>\n",
       "      <th>pub_rec_bankruptcies</th>\n",
       "      <th>tax_liens</th>\n",
       "      <th>tot_hi_cred_lim</th>\n",
       "      <th>total_bal_ex_mort</th>\n",
       "      <th>total_bc_limit</th>\n",
       "      <th>total_il_high_credit_limit</th>\n",
       "      <th>hardship_flag</th>\n",
       "      <th>debt_settlement_flag</th>\n",
       "    </tr>\n",
       "  </thead>\n",
       "  <tbody>\n",
       "    <tr>\n",
       "      <th>0</th>\n",
       "      <td>57107</td>\n",
       "      <td>57107</td>\n",
       "      <td>13375.0</td>\n",
       "      <td>0.1797</td>\n",
       "      <td>483.34</td>\n",
       "      <td>MORTGAGE</td>\n",
       "      <td>223000.0</td>\n",
       "      <td>Not Verified</td>\n",
       "      <td>low_risk</td>\n",
       "      <td>n</td>\n",
       "      <td>...</td>\n",
       "      <td>100.0</td>\n",
       "      <td>50.0</td>\n",
       "      <td>0.0</td>\n",
       "      <td>0.0</td>\n",
       "      <td>577150.0</td>\n",
       "      <td>122018.0</td>\n",
       "      <td>32000.0</td>\n",
       "      <td>170200.0</td>\n",
       "      <td>N</td>\n",
       "      <td>N</td>\n",
       "    </tr>\n",
       "    <tr>\n",
       "      <th>1</th>\n",
       "      <td>141451</td>\n",
       "      <td>141451</td>\n",
       "      <td>21000.0</td>\n",
       "      <td>0.1308</td>\n",
       "      <td>478.68</td>\n",
       "      <td>MORTGAGE</td>\n",
       "      <td>123000.0</td>\n",
       "      <td>Source Verified</td>\n",
       "      <td>low_risk</td>\n",
       "      <td>n</td>\n",
       "      <td>...</td>\n",
       "      <td>85.0</td>\n",
       "      <td>33.3</td>\n",
       "      <td>0.0</td>\n",
       "      <td>0.0</td>\n",
       "      <td>132750.0</td>\n",
       "      <td>27896.0</td>\n",
       "      <td>15900.0</td>\n",
       "      <td>35398.0</td>\n",
       "      <td>N</td>\n",
       "      <td>N</td>\n",
       "    </tr>\n",
       "    <tr>\n",
       "      <th>2</th>\n",
       "      <td>321143</td>\n",
       "      <td>321143</td>\n",
       "      <td>20000.0</td>\n",
       "      <td>0.1240</td>\n",
       "      <td>448.95</td>\n",
       "      <td>MORTGAGE</td>\n",
       "      <td>197000.0</td>\n",
       "      <td>Source Verified</td>\n",
       "      <td>low_risk</td>\n",
       "      <td>n</td>\n",
       "      <td>...</td>\n",
       "      <td>85.7</td>\n",
       "      <td>33.3</td>\n",
       "      <td>0.0</td>\n",
       "      <td>0.0</td>\n",
       "      <td>628160.0</td>\n",
       "      <td>114043.0</td>\n",
       "      <td>22600.0</td>\n",
       "      <td>90340.0</td>\n",
       "      <td>N</td>\n",
       "      <td>N</td>\n",
       "    </tr>\n",
       "    <tr>\n",
       "      <th>3</th>\n",
       "      <td>11778</td>\n",
       "      <td>11778</td>\n",
       "      <td>3000.0</td>\n",
       "      <td>0.1240</td>\n",
       "      <td>100.22</td>\n",
       "      <td>RENT</td>\n",
       "      <td>45000.0</td>\n",
       "      <td>Not Verified</td>\n",
       "      <td>low_risk</td>\n",
       "      <td>n</td>\n",
       "      <td>...</td>\n",
       "      <td>100.0</td>\n",
       "      <td>16.7</td>\n",
       "      <td>1.0</td>\n",
       "      <td>0.0</td>\n",
       "      <td>42006.0</td>\n",
       "      <td>20761.0</td>\n",
       "      <td>19900.0</td>\n",
       "      <td>15406.0</td>\n",
       "      <td>N</td>\n",
       "      <td>N</td>\n",
       "    </tr>\n",
       "    <tr>\n",
       "      <th>4</th>\n",
       "      <td>169382</td>\n",
       "      <td>169382</td>\n",
       "      <td>30000.0</td>\n",
       "      <td>0.1612</td>\n",
       "      <td>1056.49</td>\n",
       "      <td>MORTGAGE</td>\n",
       "      <td>133000.0</td>\n",
       "      <td>Source Verified</td>\n",
       "      <td>low_risk</td>\n",
       "      <td>n</td>\n",
       "      <td>...</td>\n",
       "      <td>100.0</td>\n",
       "      <td>66.7</td>\n",
       "      <td>0.0</td>\n",
       "      <td>0.0</td>\n",
       "      <td>283248.0</td>\n",
       "      <td>109056.0</td>\n",
       "      <td>79500.0</td>\n",
       "      <td>58778.0</td>\n",
       "      <td>N</td>\n",
       "      <td>N</td>\n",
       "    </tr>\n",
       "    <tr>\n",
       "      <th>...</th>\n",
       "      <td>...</td>\n",
       "      <td>...</td>\n",
       "      <td>...</td>\n",
       "      <td>...</td>\n",
       "      <td>...</td>\n",
       "      <td>...</td>\n",
       "      <td>...</td>\n",
       "      <td>...</td>\n",
       "      <td>...</td>\n",
       "      <td>...</td>\n",
       "      <td>...</td>\n",
       "      <td>...</td>\n",
       "      <td>...</td>\n",
       "      <td>...</td>\n",
       "      <td>...</td>\n",
       "      <td>...</td>\n",
       "      <td>...</td>\n",
       "      <td>...</td>\n",
       "      <td>...</td>\n",
       "      <td>...</td>\n",
       "      <td>...</td>\n",
       "    </tr>\n",
       "    <tr>\n",
       "      <th>12175</th>\n",
       "      <td>354912</td>\n",
       "      <td>354912</td>\n",
       "      <td>19975.0</td>\n",
       "      <td>0.2565</td>\n",
       "      <td>801.09</td>\n",
       "      <td>RENT</td>\n",
       "      <td>28000.0</td>\n",
       "      <td>Not Verified</td>\n",
       "      <td>high_risk</td>\n",
       "      <td>n</td>\n",
       "      <td>...</td>\n",
       "      <td>100.0</td>\n",
       "      <td>16.7</td>\n",
       "      <td>0.0</td>\n",
       "      <td>0.0</td>\n",
       "      <td>50055.0</td>\n",
       "      <td>28192.0</td>\n",
       "      <td>18700.0</td>\n",
       "      <td>19055.0</td>\n",
       "      <td>N</td>\n",
       "      <td>N</td>\n",
       "    </tr>\n",
       "    <tr>\n",
       "      <th>12176</th>\n",
       "      <td>354944</td>\n",
       "      <td>354944</td>\n",
       "      <td>15000.0</td>\n",
       "      <td>0.1774</td>\n",
       "      <td>540.34</td>\n",
       "      <td>RENT</td>\n",
       "      <td>50000.0</td>\n",
       "      <td>Verified</td>\n",
       "      <td>high_risk</td>\n",
       "      <td>n</td>\n",
       "      <td>...</td>\n",
       "      <td>90.5</td>\n",
       "      <td>11.1</td>\n",
       "      <td>0.0</td>\n",
       "      <td>0.0</td>\n",
       "      <td>70324.0</td>\n",
       "      <td>57025.0</td>\n",
       "      <td>13300.0</td>\n",
       "      <td>54824.0</td>\n",
       "      <td>N</td>\n",
       "      <td>N</td>\n",
       "    </tr>\n",
       "    <tr>\n",
       "      <th>12177</th>\n",
       "      <td>354973</td>\n",
       "      <td>354973</td>\n",
       "      <td>3600.0</td>\n",
       "      <td>0.1862</td>\n",
       "      <td>131.28</td>\n",
       "      <td>RENT</td>\n",
       "      <td>60000.0</td>\n",
       "      <td>Not Verified</td>\n",
       "      <td>high_risk</td>\n",
       "      <td>n</td>\n",
       "      <td>...</td>\n",
       "      <td>100.0</td>\n",
       "      <td>0.0</td>\n",
       "      <td>0.0</td>\n",
       "      <td>0.0</td>\n",
       "      <td>83765.0</td>\n",
       "      <td>55156.0</td>\n",
       "      <td>14800.0</td>\n",
       "      <td>53065.0</td>\n",
       "      <td>N</td>\n",
       "      <td>N</td>\n",
       "    </tr>\n",
       "    <tr>\n",
       "      <th>12178</th>\n",
       "      <td>355002</td>\n",
       "      <td>355002</td>\n",
       "      <td>15000.0</td>\n",
       "      <td>0.0881</td>\n",
       "      <td>475.68</td>\n",
       "      <td>MORTGAGE</td>\n",
       "      <td>62000.0</td>\n",
       "      <td>Source Verified</td>\n",
       "      <td>high_risk</td>\n",
       "      <td>n</td>\n",
       "      <td>...</td>\n",
       "      <td>100.0</td>\n",
       "      <td>0.0</td>\n",
       "      <td>0.0</td>\n",
       "      <td>0.0</td>\n",
       "      <td>189930.0</td>\n",
       "      <td>23748.0</td>\n",
       "      <td>7000.0</td>\n",
       "      <td>32930.0</td>\n",
       "      <td>N</td>\n",
       "      <td>N</td>\n",
       "    </tr>\n",
       "    <tr>\n",
       "      <th>12179</th>\n",
       "      <td>355307</td>\n",
       "      <td>355307</td>\n",
       "      <td>15000.0</td>\n",
       "      <td>0.1774</td>\n",
       "      <td>540.34</td>\n",
       "      <td>RENT</td>\n",
       "      <td>54080.0</td>\n",
       "      <td>Not Verified</td>\n",
       "      <td>high_risk</td>\n",
       "      <td>n</td>\n",
       "      <td>...</td>\n",
       "      <td>90.0</td>\n",
       "      <td>100.0</td>\n",
       "      <td>0.0</td>\n",
       "      <td>0.0</td>\n",
       "      <td>48968.0</td>\n",
       "      <td>29786.0</td>\n",
       "      <td>2900.0</td>\n",
       "      <td>33968.0</td>\n",
       "      <td>N</td>\n",
       "      <td>N</td>\n",
       "    </tr>\n",
       "  </tbody>\n",
       "</table>\n",
       "<p>12180 rows × 86 columns</p>\n",
       "</div>"
      ],
      "text/plain": [
       "       Unnamed: 0   index  loan_amnt  int_rate  installment home_ownership  \\\n",
       "0           57107   57107    13375.0    0.1797       483.34       MORTGAGE   \n",
       "1          141451  141451    21000.0    0.1308       478.68       MORTGAGE   \n",
       "2          321143  321143    20000.0    0.1240       448.95       MORTGAGE   \n",
       "3           11778   11778     3000.0    0.1240       100.22           RENT   \n",
       "4          169382  169382    30000.0    0.1612      1056.49       MORTGAGE   \n",
       "...           ...     ...        ...       ...          ...            ...   \n",
       "12175      354912  354912    19975.0    0.2565       801.09           RENT   \n",
       "12176      354944  354944    15000.0    0.1774       540.34           RENT   \n",
       "12177      354973  354973     3600.0    0.1862       131.28           RENT   \n",
       "12178      355002  355002    15000.0    0.0881       475.68       MORTGAGE   \n",
       "12179      355307  355307    15000.0    0.1774       540.34           RENT   \n",
       "\n",
       "       annual_inc verification_status loan_status pymnt_plan  ...  \\\n",
       "0        223000.0        Not Verified    low_risk          n  ...   \n",
       "1        123000.0     Source Verified    low_risk          n  ...   \n",
       "2        197000.0     Source Verified    low_risk          n  ...   \n",
       "3         45000.0        Not Verified    low_risk          n  ...   \n",
       "4        133000.0     Source Verified    low_risk          n  ...   \n",
       "...           ...                 ...         ...        ...  ...   \n",
       "12175     28000.0        Not Verified   high_risk          n  ...   \n",
       "12176     50000.0            Verified   high_risk          n  ...   \n",
       "12177     60000.0        Not Verified   high_risk          n  ...   \n",
       "12178     62000.0     Source Verified   high_risk          n  ...   \n",
       "12179     54080.0        Not Verified   high_risk          n  ...   \n",
       "\n",
       "       pct_tl_nvr_dlq  percent_bc_gt_75  pub_rec_bankruptcies  tax_liens  \\\n",
       "0               100.0              50.0                   0.0        0.0   \n",
       "1                85.0              33.3                   0.0        0.0   \n",
       "2                85.7              33.3                   0.0        0.0   \n",
       "3               100.0              16.7                   1.0        0.0   \n",
       "4               100.0              66.7                   0.0        0.0   \n",
       "...               ...               ...                   ...        ...   \n",
       "12175           100.0              16.7                   0.0        0.0   \n",
       "12176            90.5              11.1                   0.0        0.0   \n",
       "12177           100.0               0.0                   0.0        0.0   \n",
       "12178           100.0               0.0                   0.0        0.0   \n",
       "12179            90.0             100.0                   0.0        0.0   \n",
       "\n",
       "       tot_hi_cred_lim  total_bal_ex_mort  total_bc_limit  \\\n",
       "0             577150.0           122018.0         32000.0   \n",
       "1             132750.0            27896.0         15900.0   \n",
       "2             628160.0           114043.0         22600.0   \n",
       "3              42006.0            20761.0         19900.0   \n",
       "4             283248.0           109056.0         79500.0   \n",
       "...                ...                ...             ...   \n",
       "12175          50055.0            28192.0         18700.0   \n",
       "12176          70324.0            57025.0         13300.0   \n",
       "12177          83765.0            55156.0         14800.0   \n",
       "12178         189930.0            23748.0          7000.0   \n",
       "12179          48968.0            29786.0          2900.0   \n",
       "\n",
       "      total_il_high_credit_limit  hardship_flag  debt_settlement_flag  \n",
       "0                       170200.0              N                     N  \n",
       "1                        35398.0              N                     N  \n",
       "2                        90340.0              N                     N  \n",
       "3                        15406.0              N                     N  \n",
       "4                        58778.0              N                     N  \n",
       "...                          ...            ...                   ...  \n",
       "12175                    19055.0              N                     N  \n",
       "12176                    54824.0              N                     N  \n",
       "12177                    53065.0              N                     N  \n",
       "12178                    32930.0              N                     N  \n",
       "12179                    33968.0              N                     N  \n",
       "\n",
       "[12180 rows x 86 columns]"
      ]
     },
     "execution_count": 3,
     "metadata": {},
     "output_type": "execute_result"
    }
   ],
   "source": [
    "train_df"
   ]
  },
  {
   "cell_type": "code",
   "execution_count": 4,
   "metadata": {},
   "outputs": [
    {
     "data": {
      "text/plain": [
       "0        low_risk\n",
       "1        low_risk\n",
       "2        low_risk\n",
       "3        low_risk\n",
       "4        low_risk\n",
       "          ...    \n",
       "4697    high_risk\n",
       "4698    high_risk\n",
       "4699    high_risk\n",
       "4700    high_risk\n",
       "4701    high_risk\n",
       "Name: loan_status, Length: 4702, dtype: object"
      ]
     },
     "execution_count": 4,
     "metadata": {},
     "output_type": "execute_result"
    }
   ],
   "source": [
    "test_df['loan_status']"
   ]
  },
  {
   "cell_type": "code",
   "execution_count": 5,
   "metadata": {},
   "outputs": [],
   "source": [
    "\n",
    "# print(train_df.columns.values)"
   ]
  },
  {
   "cell_type": "code",
   "execution_count": 6,
   "metadata": {},
   "outputs": [
    {
     "data": {
      "text/plain": [
       "(12180, 86)"
      ]
     },
     "execution_count": 6,
     "metadata": {},
     "output_type": "execute_result"
    }
   ],
   "source": [
    "train_df.shape"
   ]
  },
  {
   "cell_type": "code",
   "execution_count": 7,
   "metadata": {},
   "outputs": [
    {
     "data": {
      "text/plain": [
       "low_risk     6090\n",
       "high_risk    6090\n",
       "Name: loan_status, dtype: int64"
      ]
     },
     "execution_count": 7,
     "metadata": {},
     "output_type": "execute_result"
    }
   ],
   "source": [
    "train_df['loan_status'].value_counts()"
   ]
  },
  {
   "cell_type": "markdown",
   "metadata": {},
   "source": [
    "Look for missing values (NaN)"
   ]
  },
  {
   "cell_type": "code",
   "execution_count": 8,
   "metadata": {},
   "outputs": [
    {
     "name": "stdout",
     "output_type": "stream",
     "text": [
      "<class 'pandas.core.frame.DataFrame'>\n",
      "RangeIndex: 12180 entries, 0 to 12179\n",
      "Data columns (total 86 columns):\n",
      " #   Column                      Non-Null Count  Dtype  \n",
      "---  ------                      --------------  -----  \n",
      " 0   Unnamed: 0                  12180 non-null  int64  \n",
      " 1   index                       12180 non-null  int64  \n",
      " 2   loan_amnt                   12180 non-null  float64\n",
      " 3   int_rate                    12180 non-null  float64\n",
      " 4   installment                 12180 non-null  float64\n",
      " 5   home_ownership              12180 non-null  object \n",
      " 6   annual_inc                  12180 non-null  float64\n",
      " 7   verification_status         12180 non-null  object \n",
      " 8   loan_status                 12180 non-null  object \n",
      " 9   pymnt_plan                  12180 non-null  object \n",
      " 10  dti                         12180 non-null  float64\n",
      " 11  delinq_2yrs                 12180 non-null  float64\n",
      " 12  inq_last_6mths              12180 non-null  float64\n",
      " 13  open_acc                    12180 non-null  float64\n",
      " 14  pub_rec                     12180 non-null  float64\n",
      " 15  revol_bal                   12180 non-null  float64\n",
      " 16  total_acc                   12180 non-null  float64\n",
      " 17  initial_list_status         12180 non-null  object \n",
      " 18  out_prncp                   12180 non-null  float64\n",
      " 19  out_prncp_inv               12180 non-null  float64\n",
      " 20  total_pymnt                 12180 non-null  float64\n",
      " 21  total_pymnt_inv             12180 non-null  float64\n",
      " 22  total_rec_prncp             12180 non-null  float64\n",
      " 23  total_rec_int               12180 non-null  float64\n",
      " 24  total_rec_late_fee          12180 non-null  float64\n",
      " 25  recoveries                  12180 non-null  float64\n",
      " 26  collection_recovery_fee     12180 non-null  float64\n",
      " 27  last_pymnt_amnt             12180 non-null  float64\n",
      " 28  collections_12_mths_ex_med  12180 non-null  float64\n",
      " 29  policy_code                 12180 non-null  float64\n",
      " 30  application_type            12180 non-null  object \n",
      " 31  acc_now_delinq              12180 non-null  float64\n",
      " 32  tot_coll_amt                12180 non-null  float64\n",
      " 33  tot_cur_bal                 12180 non-null  float64\n",
      " 34  open_acc_6m                 12180 non-null  float64\n",
      " 35  open_act_il                 12180 non-null  float64\n",
      " 36  open_il_12m                 12180 non-null  float64\n",
      " 37  open_il_24m                 12180 non-null  float64\n",
      " 38  mths_since_rcnt_il          12180 non-null  float64\n",
      " 39  total_bal_il                12180 non-null  float64\n",
      " 40  il_util                     12180 non-null  float64\n",
      " 41  open_rv_12m                 12180 non-null  float64\n",
      " 42  open_rv_24m                 12180 non-null  float64\n",
      " 43  max_bal_bc                  12180 non-null  float64\n",
      " 44  all_util                    12180 non-null  float64\n",
      " 45  total_rev_hi_lim            12180 non-null  float64\n",
      " 46  inq_fi                      12180 non-null  float64\n",
      " 47  total_cu_tl                 12180 non-null  float64\n",
      " 48  inq_last_12m                12180 non-null  float64\n",
      " 49  acc_open_past_24mths        12180 non-null  float64\n",
      " 50  avg_cur_bal                 12180 non-null  float64\n",
      " 51  bc_open_to_buy              12180 non-null  float64\n",
      " 52  bc_util                     12180 non-null  float64\n",
      " 53  chargeoff_within_12_mths    12180 non-null  float64\n",
      " 54  delinq_amnt                 12180 non-null  float64\n",
      " 55  mo_sin_old_il_acct          12180 non-null  float64\n",
      " 56  mo_sin_old_rev_tl_op        12180 non-null  float64\n",
      " 57  mo_sin_rcnt_rev_tl_op       12180 non-null  float64\n",
      " 58  mo_sin_rcnt_tl              12180 non-null  float64\n",
      " 59  mort_acc                    12180 non-null  float64\n",
      " 60  mths_since_recent_bc        12180 non-null  float64\n",
      " 61  mths_since_recent_inq       12180 non-null  float64\n",
      " 62  num_accts_ever_120_pd       12180 non-null  float64\n",
      " 63  num_actv_bc_tl              12180 non-null  float64\n",
      " 64  num_actv_rev_tl             12180 non-null  float64\n",
      " 65  num_bc_sats                 12180 non-null  float64\n",
      " 66  num_bc_tl                   12180 non-null  float64\n",
      " 67  num_il_tl                   12180 non-null  float64\n",
      " 68  num_op_rev_tl               12180 non-null  float64\n",
      " 69  num_rev_accts               12180 non-null  float64\n",
      " 70  num_rev_tl_bal_gt_0         12180 non-null  float64\n",
      " 71  num_sats                    12180 non-null  float64\n",
      " 72  num_tl_120dpd_2m            12180 non-null  float64\n",
      " 73  num_tl_30dpd                12180 non-null  float64\n",
      " 74  num_tl_90g_dpd_24m          12180 non-null  float64\n",
      " 75  num_tl_op_past_12m          12180 non-null  float64\n",
      " 76  pct_tl_nvr_dlq              12180 non-null  float64\n",
      " 77  percent_bc_gt_75            12180 non-null  float64\n",
      " 78  pub_rec_bankruptcies        12180 non-null  float64\n",
      " 79  tax_liens                   12180 non-null  float64\n",
      " 80  tot_hi_cred_lim             12180 non-null  float64\n",
      " 81  total_bal_ex_mort           12180 non-null  float64\n",
      " 82  total_bc_limit              12180 non-null  float64\n",
      " 83  total_il_high_credit_limit  12180 non-null  float64\n",
      " 84  hardship_flag               12180 non-null  object \n",
      " 85  debt_settlement_flag        12180 non-null  object \n",
      "dtypes: float64(76), int64(2), object(8)\n",
      "memory usage: 8.0+ MB\n"
     ]
    }
   ],
   "source": [
    "train_df.info()"
   ]
  },
  {
   "cell_type": "code",
   "execution_count": 9,
   "metadata": {},
   "outputs": [
    {
     "data": {
      "text/plain": [
       "Unnamed: 0                    0\n",
       "index                         0\n",
       "loan_amnt                     0\n",
       "int_rate                      0\n",
       "installment                   0\n",
       "                             ..\n",
       "total_bal_ex_mort             0\n",
       "total_bc_limit                0\n",
       "total_il_high_credit_limit    0\n",
       "hardship_flag                 0\n",
       "debt_settlement_flag          0\n",
       "Length: 86, dtype: int64"
      ]
     },
     "execution_count": 9,
     "metadata": {},
     "output_type": "execute_result"
    }
   ],
   "source": [
    "train_df.isnull().sum()"
   ]
  },
  {
   "cell_type": "markdown",
   "metadata": {},
   "source": [
    "### Preprocessing\n",
    "Convert categorical data into numerical"
   ]
  },
  {
   "cell_type": "code",
   "execution_count": 10,
   "metadata": {},
   "outputs": [],
   "source": [
    "# # # Convert categorical data to numeric on training data, feature and target\n",
    "# X_2019 = train_df.drop(\"loan_status\", axis=1)\n",
    "# X_2019 = pd.get_dummies(X_2019)\n",
    "# train_df['loan_status'] = pd.get_dummies((train_df['loan_status']))\n",
    "# from pandas import DataFrame\n",
    "# y_2019 = DataFrame(train_df[\"loan_status\"])\n",
    "\n",
    "# # Convert categorical data to numeric on training data, feature and target\n",
    "# X_2020test = test_df.drop(\"loan_status\", axis=1)\n",
    "# X_2020test = pd.get_dummies(X_2020test)\n",
    "\n",
    "# test_df['loan_status'] = pd.get_dummies((test_df['loan_status']))\n",
    "# from pandas import DataFrame\n",
    "# y_2020test = DataFrame(test_df[\"loan_status\"])\n",
    "# print(X_2019.columns.values)"
   ]
  },
  {
   "cell_type": "code",
   "execution_count": 11,
   "metadata": {},
   "outputs": [],
   "source": [
    "X_train=train_df.drop(\"loan_status\", axis=1)\n",
    "y_train=train_df['loan_status']\n",
    "X_train=pd.get_dummies(X_train)"
   ]
  },
  {
   "cell_type": "code",
   "execution_count": 12,
   "metadata": {},
   "outputs": [
    {
     "data": {
      "text/plain": [
       "low_risk     6090\n",
       "high_risk    6090\n",
       "Name: loan_status, dtype: int64"
      ]
     },
     "execution_count": 12,
     "metadata": {},
     "output_type": "execute_result"
    }
   ],
   "source": [
    "y_train.value_counts()"
   ]
  },
  {
   "cell_type": "code",
   "execution_count": 13,
   "metadata": {},
   "outputs": [
    {
     "data": {
      "text/html": [
       "<div>\n",
       "<style scoped>\n",
       "    .dataframe tbody tr th:only-of-type {\n",
       "        vertical-align: middle;\n",
       "    }\n",
       "\n",
       "    .dataframe tbody tr th {\n",
       "        vertical-align: top;\n",
       "    }\n",
       "\n",
       "    .dataframe thead th {\n",
       "        text-align: right;\n",
       "    }\n",
       "</style>\n",
       "<table border=\"1\" class=\"dataframe\">\n",
       "  <thead>\n",
       "    <tr style=\"text-align: right;\">\n",
       "      <th></th>\n",
       "      <th>Unnamed: 0</th>\n",
       "      <th>index</th>\n",
       "      <th>loan_amnt</th>\n",
       "      <th>int_rate</th>\n",
       "      <th>installment</th>\n",
       "      <th>annual_inc</th>\n",
       "      <th>dti</th>\n",
       "      <th>delinq_2yrs</th>\n",
       "      <th>inq_last_6mths</th>\n",
       "      <th>open_acc</th>\n",
       "      <th>...</th>\n",
       "      <th>verification_status_Verified</th>\n",
       "      <th>pymnt_plan_n</th>\n",
       "      <th>initial_list_status_f</th>\n",
       "      <th>initial_list_status_w</th>\n",
       "      <th>application_type_Individual</th>\n",
       "      <th>application_type_Joint App</th>\n",
       "      <th>hardship_flag_N</th>\n",
       "      <th>hardship_flag_Y</th>\n",
       "      <th>debt_settlement_flag_N</th>\n",
       "      <th>debt_settlement_flag_Y</th>\n",
       "    </tr>\n",
       "  </thead>\n",
       "  <tbody>\n",
       "    <tr>\n",
       "      <th>0</th>\n",
       "      <td>57107</td>\n",
       "      <td>57107</td>\n",
       "      <td>13375.0</td>\n",
       "      <td>0.1797</td>\n",
       "      <td>483.34</td>\n",
       "      <td>223000.0</td>\n",
       "      <td>29.99</td>\n",
       "      <td>0.0</td>\n",
       "      <td>0.0</td>\n",
       "      <td>15.0</td>\n",
       "      <td>...</td>\n",
       "      <td>0</td>\n",
       "      <td>1</td>\n",
       "      <td>0</td>\n",
       "      <td>1</td>\n",
       "      <td>1</td>\n",
       "      <td>0</td>\n",
       "      <td>1</td>\n",
       "      <td>0</td>\n",
       "      <td>1</td>\n",
       "      <td>0</td>\n",
       "    </tr>\n",
       "    <tr>\n",
       "      <th>1</th>\n",
       "      <td>141451</td>\n",
       "      <td>141451</td>\n",
       "      <td>21000.0</td>\n",
       "      <td>0.1308</td>\n",
       "      <td>478.68</td>\n",
       "      <td>123000.0</td>\n",
       "      <td>11.26</td>\n",
       "      <td>2.0</td>\n",
       "      <td>0.0</td>\n",
       "      <td>16.0</td>\n",
       "      <td>...</td>\n",
       "      <td>0</td>\n",
       "      <td>1</td>\n",
       "      <td>0</td>\n",
       "      <td>1</td>\n",
       "      <td>1</td>\n",
       "      <td>0</td>\n",
       "      <td>1</td>\n",
       "      <td>0</td>\n",
       "      <td>1</td>\n",
       "      <td>0</td>\n",
       "    </tr>\n",
       "    <tr>\n",
       "      <th>2</th>\n",
       "      <td>321143</td>\n",
       "      <td>321143</td>\n",
       "      <td>20000.0</td>\n",
       "      <td>0.1240</td>\n",
       "      <td>448.95</td>\n",
       "      <td>197000.0</td>\n",
       "      <td>11.28</td>\n",
       "      <td>0.0</td>\n",
       "      <td>0.0</td>\n",
       "      <td>12.0</td>\n",
       "      <td>...</td>\n",
       "      <td>0</td>\n",
       "      <td>1</td>\n",
       "      <td>0</td>\n",
       "      <td>1</td>\n",
       "      <td>1</td>\n",
       "      <td>0</td>\n",
       "      <td>1</td>\n",
       "      <td>0</td>\n",
       "      <td>1</td>\n",
       "      <td>0</td>\n",
       "    </tr>\n",
       "    <tr>\n",
       "      <th>3</th>\n",
       "      <td>11778</td>\n",
       "      <td>11778</td>\n",
       "      <td>3000.0</td>\n",
       "      <td>0.1240</td>\n",
       "      <td>100.22</td>\n",
       "      <td>45000.0</td>\n",
       "      <td>18.08</td>\n",
       "      <td>0.0</td>\n",
       "      <td>0.0</td>\n",
       "      <td>12.0</td>\n",
       "      <td>...</td>\n",
       "      <td>0</td>\n",
       "      <td>1</td>\n",
       "      <td>0</td>\n",
       "      <td>1</td>\n",
       "      <td>1</td>\n",
       "      <td>0</td>\n",
       "      <td>1</td>\n",
       "      <td>0</td>\n",
       "      <td>1</td>\n",
       "      <td>0</td>\n",
       "    </tr>\n",
       "    <tr>\n",
       "      <th>4</th>\n",
       "      <td>169382</td>\n",
       "      <td>169382</td>\n",
       "      <td>30000.0</td>\n",
       "      <td>0.1612</td>\n",
       "      <td>1056.49</td>\n",
       "      <td>133000.0</td>\n",
       "      <td>27.77</td>\n",
       "      <td>0.0</td>\n",
       "      <td>2.0</td>\n",
       "      <td>13.0</td>\n",
       "      <td>...</td>\n",
       "      <td>0</td>\n",
       "      <td>1</td>\n",
       "      <td>0</td>\n",
       "      <td>1</td>\n",
       "      <td>1</td>\n",
       "      <td>0</td>\n",
       "      <td>1</td>\n",
       "      <td>0</td>\n",
       "      <td>1</td>\n",
       "      <td>0</td>\n",
       "    </tr>\n",
       "  </tbody>\n",
       "</table>\n",
       "<p>5 rows × 94 columns</p>\n",
       "</div>"
      ],
      "text/plain": [
       "   Unnamed: 0   index  loan_amnt  int_rate  installment  annual_inc    dti  \\\n",
       "0       57107   57107    13375.0    0.1797       483.34    223000.0  29.99   \n",
       "1      141451  141451    21000.0    0.1308       478.68    123000.0  11.26   \n",
       "2      321143  321143    20000.0    0.1240       448.95    197000.0  11.28   \n",
       "3       11778   11778     3000.0    0.1240       100.22     45000.0  18.08   \n",
       "4      169382  169382    30000.0    0.1612      1056.49    133000.0  27.77   \n",
       "\n",
       "   delinq_2yrs  inq_last_6mths  open_acc  ...  verification_status_Verified  \\\n",
       "0          0.0             0.0      15.0  ...                             0   \n",
       "1          2.0             0.0      16.0  ...                             0   \n",
       "2          0.0             0.0      12.0  ...                             0   \n",
       "3          0.0             0.0      12.0  ...                             0   \n",
       "4          0.0             2.0      13.0  ...                             0   \n",
       "\n",
       "   pymnt_plan_n  initial_list_status_f  initial_list_status_w  \\\n",
       "0             1                      0                      1   \n",
       "1             1                      0                      1   \n",
       "2             1                      0                      1   \n",
       "3             1                      0                      1   \n",
       "4             1                      0                      1   \n",
       "\n",
       "   application_type_Individual  application_type_Joint App  hardship_flag_N  \\\n",
       "0                            1                           0                1   \n",
       "1                            1                           0                1   \n",
       "2                            1                           0                1   \n",
       "3                            1                           0                1   \n",
       "4                            1                           0                1   \n",
       "\n",
       "   hardship_flag_Y  debt_settlement_flag_N  debt_settlement_flag_Y  \n",
       "0                0                       1                       0  \n",
       "1                0                       1                       0  \n",
       "2                0                       1                       0  \n",
       "3                0                       1                       0  \n",
       "4                0                       1                       0  \n",
       "\n",
       "[5 rows x 94 columns]"
      ]
     },
     "execution_count": 13,
     "metadata": {},
     "output_type": "execute_result"
    }
   ],
   "source": [
    "X_train.head()"
   ]
  },
  {
   "cell_type": "code",
   "execution_count": 14,
   "metadata": {},
   "outputs": [
    {
     "data": {
      "text/plain": [
       "0         low_risk\n",
       "1         low_risk\n",
       "2         low_risk\n",
       "3         low_risk\n",
       "4         low_risk\n",
       "           ...    \n",
       "12175    high_risk\n",
       "12176    high_risk\n",
       "12177    high_risk\n",
       "12178    high_risk\n",
       "12179    high_risk\n",
       "Name: loan_status, Length: 12180, dtype: object"
      ]
     },
     "execution_count": 14,
     "metadata": {},
     "output_type": "execute_result"
    }
   ],
   "source": [
    "y_train\n"
   ]
  },
  {
   "cell_type": "code",
   "execution_count": 15,
   "metadata": {},
   "outputs": [],
   "source": [
    "X_test=test_df.drop(\"loan_status\", axis=1)\n",
    "y_test=test_df['loan_status']\n",
    "X_test=pd.get_dummies(X_test)"
   ]
  },
  {
   "cell_type": "code",
   "execution_count": 16,
   "metadata": {},
   "outputs": [
    {
     "data": {
      "text/plain": [
       "(12180, 94)"
      ]
     },
     "execution_count": 16,
     "metadata": {},
     "output_type": "execute_result"
    }
   ],
   "source": [
    "X_train.shape"
   ]
  },
  {
   "cell_type": "code",
   "execution_count": 17,
   "metadata": {},
   "outputs": [
    {
     "data": {
      "text/plain": [
       "(4702, 93)"
      ]
     },
     "execution_count": 17,
     "metadata": {},
     "output_type": "execute_result"
    }
   ],
   "source": [
    "X_test.shape"
   ]
  },
  {
   "cell_type": "code",
   "execution_count": 18,
   "metadata": {},
   "outputs": [],
   "source": [
    "X_train.drop(['Unnamed: 0','index'],axis=1,inplace=True)\n",
    "X_test.drop(['Unnamed: 0','index'],axis=1,inplace=True)"
   ]
  },
  {
   "cell_type": "code",
   "execution_count": 19,
   "metadata": {},
   "outputs": [],
   "source": [
    "# Get missing columns in the training test\n",
    "missing_cols = set( X_train.columns ) - set( X_test.columns )\n",
    "# Add a missing column in test set with default value equal to 0\n",
    "for c in missing_cols:\n",
    "    X_test[c] = 0\n",
    "# Ensure the order of column in the test set is in the same order than in train set\n",
    "X_test = X_test[X_train.columns]"
   ]
  },
  {
   "cell_type": "code",
   "execution_count": 20,
   "metadata": {},
   "outputs": [
    {
     "data": {
      "text/plain": [
       "(4702, 92)"
      ]
     },
     "execution_count": 20,
     "metadata": {},
     "output_type": "execute_result"
    }
   ],
   "source": [
    "X_test.shape"
   ]
  },
  {
   "cell_type": "code",
   "execution_count": 21,
   "metadata": {},
   "outputs": [],
   "source": [
    "# Feature selection"
   ]
  },
  {
   "cell_type": "code",
   "execution_count": 22,
   "metadata": {},
   "outputs": [
    {
     "data": {
      "text/plain": [
       "low_risk     2351\n",
       "high_risk    2351\n",
       "Name: loan_status, dtype: int64"
      ]
     },
     "execution_count": 22,
     "metadata": {},
     "output_type": "execute_result"
    }
   ],
   "source": [
    "y_test.value_counts()"
   ]
  },
  {
   "cell_type": "markdown",
   "metadata": {},
   "source": [
    "Remove features based on correlation"
   ]
  },
  {
   "cell_type": "code",
   "execution_count": 24,
   "metadata": {},
   "outputs": [
    {
     "data": {
      "text/html": [
       "<div>\n",
       "<style scoped>\n",
       "    .dataframe tbody tr th:only-of-type {\n",
       "        vertical-align: middle;\n",
       "    }\n",
       "\n",
       "    .dataframe tbody tr th {\n",
       "        vertical-align: top;\n",
       "    }\n",
       "\n",
       "    .dataframe thead th {\n",
       "        text-align: right;\n",
       "    }\n",
       "</style>\n",
       "<table border=\"1\" class=\"dataframe\">\n",
       "  <thead>\n",
       "    <tr style=\"text-align: right;\">\n",
       "      <th></th>\n",
       "      <th>loan_amnt</th>\n",
       "      <th>int_rate</th>\n",
       "      <th>installment</th>\n",
       "      <th>annual_inc</th>\n",
       "      <th>dti</th>\n",
       "      <th>delinq_2yrs</th>\n",
       "      <th>inq_last_6mths</th>\n",
       "      <th>open_acc</th>\n",
       "      <th>pub_rec</th>\n",
       "      <th>revol_bal</th>\n",
       "      <th>...</th>\n",
       "      <th>verification_status_Verified</th>\n",
       "      <th>pymnt_plan_n</th>\n",
       "      <th>initial_list_status_f</th>\n",
       "      <th>initial_list_status_w</th>\n",
       "      <th>application_type_Individual</th>\n",
       "      <th>application_type_Joint App</th>\n",
       "      <th>hardship_flag_N</th>\n",
       "      <th>hardship_flag_Y</th>\n",
       "      <th>debt_settlement_flag_N</th>\n",
       "      <th>debt_settlement_flag_Y</th>\n",
       "    </tr>\n",
       "  </thead>\n",
       "  <tbody>\n",
       "    <tr>\n",
       "      <th>loan_amnt</th>\n",
       "      <td>1.000000</td>\n",
       "      <td>-0.031855</td>\n",
       "      <td>0.931812</td>\n",
       "      <td>0.133745</td>\n",
       "      <td>0.040829</td>\n",
       "      <td>-0.029415</td>\n",
       "      <td>-0.038032</td>\n",
       "      <td>0.163135</td>\n",
       "      <td>-0.063349</td>\n",
       "      <td>0.307895</td>\n",
       "      <td>...</td>\n",
       "      <td>0.149074</td>\n",
       "      <td>NaN</td>\n",
       "      <td>-0.108467</td>\n",
       "      <td>0.108467</td>\n",
       "      <td>-0.147060</td>\n",
       "      <td>0.147060</td>\n",
       "      <td>-0.059159</td>\n",
       "      <td>0.059159</td>\n",
       "      <td>0.014014</td>\n",
       "      <td>-0.014014</td>\n",
       "    </tr>\n",
       "    <tr>\n",
       "      <th>int_rate</th>\n",
       "      <td>-0.031855</td>\n",
       "      <td>1.000000</td>\n",
       "      <td>0.046622</td>\n",
       "      <td>-0.041194</td>\n",
       "      <td>0.075444</td>\n",
       "      <td>0.102723</td>\n",
       "      <td>0.082870</td>\n",
       "      <td>-0.020202</td>\n",
       "      <td>0.012707</td>\n",
       "      <td>-0.046600</td>\n",
       "      <td>...</td>\n",
       "      <td>0.142173</td>\n",
       "      <td>NaN</td>\n",
       "      <td>0.039956</td>\n",
       "      <td>-0.039956</td>\n",
       "      <td>-0.069224</td>\n",
       "      <td>0.069224</td>\n",
       "      <td>-0.044594</td>\n",
       "      <td>0.044594</td>\n",
       "      <td>0.005293</td>\n",
       "      <td>-0.005293</td>\n",
       "    </tr>\n",
       "    <tr>\n",
       "      <th>installment</th>\n",
       "      <td>0.931812</td>\n",
       "      <td>0.046622</td>\n",
       "      <td>1.000000</td>\n",
       "      <td>0.131311</td>\n",
       "      <td>0.048119</td>\n",
       "      <td>-0.000554</td>\n",
       "      <td>-0.023644</td>\n",
       "      <td>0.153699</td>\n",
       "      <td>-0.056453</td>\n",
       "      <td>0.307908</td>\n",
       "      <td>...</td>\n",
       "      <td>0.138911</td>\n",
       "      <td>NaN</td>\n",
       "      <td>-0.079448</td>\n",
       "      <td>0.079448</td>\n",
       "      <td>-0.134692</td>\n",
       "      <td>0.134692</td>\n",
       "      <td>-0.064697</td>\n",
       "      <td>0.064697</td>\n",
       "      <td>0.012859</td>\n",
       "      <td>-0.012859</td>\n",
       "    </tr>\n",
       "    <tr>\n",
       "      <th>annual_inc</th>\n",
       "      <td>0.133745</td>\n",
       "      <td>-0.041194</td>\n",
       "      <td>0.131311</td>\n",
       "      <td>1.000000</td>\n",
       "      <td>-0.080211</td>\n",
       "      <td>0.012283</td>\n",
       "      <td>0.030294</td>\n",
       "      <td>0.071312</td>\n",
       "      <td>-0.023311</td>\n",
       "      <td>0.152846</td>\n",
       "      <td>...</td>\n",
       "      <td>-0.016818</td>\n",
       "      <td>NaN</td>\n",
       "      <td>-0.008891</td>\n",
       "      <td>0.008891</td>\n",
       "      <td>0.035419</td>\n",
       "      <td>-0.035419</td>\n",
       "      <td>-0.002319</td>\n",
       "      <td>0.002319</td>\n",
       "      <td>0.000228</td>\n",
       "      <td>-0.000228</td>\n",
       "    </tr>\n",
       "    <tr>\n",
       "      <th>dti</th>\n",
       "      <td>0.040829</td>\n",
       "      <td>0.075444</td>\n",
       "      <td>0.048119</td>\n",
       "      <td>-0.080211</td>\n",
       "      <td>1.000000</td>\n",
       "      <td>0.016811</td>\n",
       "      <td>-0.027007</td>\n",
       "      <td>0.078888</td>\n",
       "      <td>-0.009230</td>\n",
       "      <td>0.055366</td>\n",
       "      <td>...</td>\n",
       "      <td>0.100012</td>\n",
       "      <td>NaN</td>\n",
       "      <td>0.013953</td>\n",
       "      <td>-0.013953</td>\n",
       "      <td>-0.245272</td>\n",
       "      <td>0.245272</td>\n",
       "      <td>-0.006046</td>\n",
       "      <td>0.006046</td>\n",
       "      <td>-0.002410</td>\n",
       "      <td>0.002410</td>\n",
       "    </tr>\n",
       "    <tr>\n",
       "      <th>...</th>\n",
       "      <td>...</td>\n",
       "      <td>...</td>\n",
       "      <td>...</td>\n",
       "      <td>...</td>\n",
       "      <td>...</td>\n",
       "      <td>...</td>\n",
       "      <td>...</td>\n",
       "      <td>...</td>\n",
       "      <td>...</td>\n",
       "      <td>...</td>\n",
       "      <td>...</td>\n",
       "      <td>...</td>\n",
       "      <td>...</td>\n",
       "      <td>...</td>\n",
       "      <td>...</td>\n",
       "      <td>...</td>\n",
       "      <td>...</td>\n",
       "      <td>...</td>\n",
       "      <td>...</td>\n",
       "      <td>...</td>\n",
       "      <td>...</td>\n",
       "    </tr>\n",
       "    <tr>\n",
       "      <th>application_type_Joint App</th>\n",
       "      <td>0.147060</td>\n",
       "      <td>0.069224</td>\n",
       "      <td>0.134692</td>\n",
       "      <td>-0.035419</td>\n",
       "      <td>0.245272</td>\n",
       "      <td>-0.009963</td>\n",
       "      <td>-0.038908</td>\n",
       "      <td>-0.034212</td>\n",
       "      <td>-0.015865</td>\n",
       "      <td>-0.014972</td>\n",
       "      <td>...</td>\n",
       "      <td>0.198338</td>\n",
       "      <td>NaN</td>\n",
       "      <td>-0.020418</td>\n",
       "      <td>0.020418</td>\n",
       "      <td>-1.000000</td>\n",
       "      <td>1.000000</td>\n",
       "      <td>-0.001594</td>\n",
       "      <td>0.001594</td>\n",
       "      <td>-0.003090</td>\n",
       "      <td>0.003090</td>\n",
       "    </tr>\n",
       "    <tr>\n",
       "      <th>hardship_flag_N</th>\n",
       "      <td>-0.059159</td>\n",
       "      <td>-0.044594</td>\n",
       "      <td>-0.064697</td>\n",
       "      <td>-0.002319</td>\n",
       "      <td>-0.006046</td>\n",
       "      <td>0.005786</td>\n",
       "      <td>-0.021692</td>\n",
       "      <td>-0.010991</td>\n",
       "      <td>0.005041</td>\n",
       "      <td>-0.008881</td>\n",
       "      <td>...</td>\n",
       "      <td>-0.006540</td>\n",
       "      <td>NaN</td>\n",
       "      <td>0.005688</td>\n",
       "      <td>-0.005688</td>\n",
       "      <td>0.001594</td>\n",
       "      <td>-0.001594</td>\n",
       "      <td>1.000000</td>\n",
       "      <td>-1.000000</td>\n",
       "      <td>-0.003475</td>\n",
       "      <td>0.003475</td>\n",
       "    </tr>\n",
       "    <tr>\n",
       "      <th>hardship_flag_Y</th>\n",
       "      <td>0.059159</td>\n",
       "      <td>0.044594</td>\n",
       "      <td>0.064697</td>\n",
       "      <td>0.002319</td>\n",
       "      <td>0.006046</td>\n",
       "      <td>-0.005786</td>\n",
       "      <td>0.021692</td>\n",
       "      <td>0.010991</td>\n",
       "      <td>-0.005041</td>\n",
       "      <td>0.008881</td>\n",
       "      <td>...</td>\n",
       "      <td>0.006540</td>\n",
       "      <td>NaN</td>\n",
       "      <td>-0.005688</td>\n",
       "      <td>0.005688</td>\n",
       "      <td>-0.001594</td>\n",
       "      <td>0.001594</td>\n",
       "      <td>-1.000000</td>\n",
       "      <td>1.000000</td>\n",
       "      <td>0.003475</td>\n",
       "      <td>-0.003475</td>\n",
       "    </tr>\n",
       "    <tr>\n",
       "      <th>debt_settlement_flag_N</th>\n",
       "      <td>0.014014</td>\n",
       "      <td>0.005293</td>\n",
       "      <td>0.012859</td>\n",
       "      <td>0.000228</td>\n",
       "      <td>-0.002410</td>\n",
       "      <td>0.006485</td>\n",
       "      <td>0.004142</td>\n",
       "      <td>0.001582</td>\n",
       "      <td>-0.005164</td>\n",
       "      <td>-0.008951</td>\n",
       "      <td>...</td>\n",
       "      <td>0.008977</td>\n",
       "      <td>NaN</td>\n",
       "      <td>0.006133</td>\n",
       "      <td>-0.006133</td>\n",
       "      <td>0.003090</td>\n",
       "      <td>-0.003090</td>\n",
       "      <td>-0.003475</td>\n",
       "      <td>0.003475</td>\n",
       "      <td>1.000000</td>\n",
       "      <td>-1.000000</td>\n",
       "    </tr>\n",
       "    <tr>\n",
       "      <th>debt_settlement_flag_Y</th>\n",
       "      <td>-0.014014</td>\n",
       "      <td>-0.005293</td>\n",
       "      <td>-0.012859</td>\n",
       "      <td>-0.000228</td>\n",
       "      <td>0.002410</td>\n",
       "      <td>-0.006485</td>\n",
       "      <td>-0.004142</td>\n",
       "      <td>-0.001582</td>\n",
       "      <td>0.005164</td>\n",
       "      <td>0.008951</td>\n",
       "      <td>...</td>\n",
       "      <td>-0.008977</td>\n",
       "      <td>NaN</td>\n",
       "      <td>-0.006133</td>\n",
       "      <td>0.006133</td>\n",
       "      <td>-0.003090</td>\n",
       "      <td>0.003090</td>\n",
       "      <td>0.003475</td>\n",
       "      <td>-0.003475</td>\n",
       "      <td>-1.000000</td>\n",
       "      <td>1.000000</td>\n",
       "    </tr>\n",
       "  </tbody>\n",
       "</table>\n",
       "<p>92 rows × 92 columns</p>\n",
       "</div>"
      ],
      "text/plain": [
       "                            loan_amnt  int_rate  installment  annual_inc  \\\n",
       "loan_amnt                    1.000000 -0.031855     0.931812    0.133745   \n",
       "int_rate                    -0.031855  1.000000     0.046622   -0.041194   \n",
       "installment                  0.931812  0.046622     1.000000    0.131311   \n",
       "annual_inc                   0.133745 -0.041194     0.131311    1.000000   \n",
       "dti                          0.040829  0.075444     0.048119   -0.080211   \n",
       "...                               ...       ...          ...         ...   \n",
       "application_type_Joint App   0.147060  0.069224     0.134692   -0.035419   \n",
       "hardship_flag_N             -0.059159 -0.044594    -0.064697   -0.002319   \n",
       "hardship_flag_Y              0.059159  0.044594     0.064697    0.002319   \n",
       "debt_settlement_flag_N       0.014014  0.005293     0.012859    0.000228   \n",
       "debt_settlement_flag_Y      -0.014014 -0.005293    -0.012859   -0.000228   \n",
       "\n",
       "                                 dti  delinq_2yrs  inq_last_6mths  open_acc  \\\n",
       "loan_amnt                   0.040829    -0.029415       -0.038032  0.163135   \n",
       "int_rate                    0.075444     0.102723        0.082870 -0.020202   \n",
       "installment                 0.048119    -0.000554       -0.023644  0.153699   \n",
       "annual_inc                 -0.080211     0.012283        0.030294  0.071312   \n",
       "dti                         1.000000     0.016811       -0.027007  0.078888   \n",
       "...                              ...          ...             ...       ...   \n",
       "application_type_Joint App  0.245272    -0.009963       -0.038908 -0.034212   \n",
       "hardship_flag_N            -0.006046     0.005786       -0.021692 -0.010991   \n",
       "hardship_flag_Y             0.006046    -0.005786        0.021692  0.010991   \n",
       "debt_settlement_flag_N     -0.002410     0.006485        0.004142  0.001582   \n",
       "debt_settlement_flag_Y      0.002410    -0.006485       -0.004142 -0.001582   \n",
       "\n",
       "                             pub_rec  revol_bal  ...  \\\n",
       "loan_amnt                  -0.063349   0.307895  ...   \n",
       "int_rate                    0.012707  -0.046600  ...   \n",
       "installment                -0.056453   0.307908  ...   \n",
       "annual_inc                 -0.023311   0.152846  ...   \n",
       "dti                        -0.009230   0.055366  ...   \n",
       "...                              ...        ...  ...   \n",
       "application_type_Joint App -0.015865  -0.014972  ...   \n",
       "hardship_flag_N             0.005041  -0.008881  ...   \n",
       "hardship_flag_Y            -0.005041   0.008881  ...   \n",
       "debt_settlement_flag_N     -0.005164  -0.008951  ...   \n",
       "debt_settlement_flag_Y      0.005164   0.008951  ...   \n",
       "\n",
       "                            verification_status_Verified  pymnt_plan_n  \\\n",
       "loan_amnt                                       0.149074           NaN   \n",
       "int_rate                                        0.142173           NaN   \n",
       "installment                                     0.138911           NaN   \n",
       "annual_inc                                     -0.016818           NaN   \n",
       "dti                                             0.100012           NaN   \n",
       "...                                                  ...           ...   \n",
       "application_type_Joint App                      0.198338           NaN   \n",
       "hardship_flag_N                                -0.006540           NaN   \n",
       "hardship_flag_Y                                 0.006540           NaN   \n",
       "debt_settlement_flag_N                          0.008977           NaN   \n",
       "debt_settlement_flag_Y                         -0.008977           NaN   \n",
       "\n",
       "                            initial_list_status_f  initial_list_status_w  \\\n",
       "loan_amnt                               -0.108467               0.108467   \n",
       "int_rate                                 0.039956              -0.039956   \n",
       "installment                             -0.079448               0.079448   \n",
       "annual_inc                              -0.008891               0.008891   \n",
       "dti                                      0.013953              -0.013953   \n",
       "...                                           ...                    ...   \n",
       "application_type_Joint App              -0.020418               0.020418   \n",
       "hardship_flag_N                          0.005688              -0.005688   \n",
       "hardship_flag_Y                         -0.005688               0.005688   \n",
       "debt_settlement_flag_N                   0.006133              -0.006133   \n",
       "debt_settlement_flag_Y                  -0.006133               0.006133   \n",
       "\n",
       "                            application_type_Individual  \\\n",
       "loan_amnt                                     -0.147060   \n",
       "int_rate                                      -0.069224   \n",
       "installment                                   -0.134692   \n",
       "annual_inc                                     0.035419   \n",
       "dti                                           -0.245272   \n",
       "...                                                 ...   \n",
       "application_type_Joint App                    -1.000000   \n",
       "hardship_flag_N                                0.001594   \n",
       "hardship_flag_Y                               -0.001594   \n",
       "debt_settlement_flag_N                         0.003090   \n",
       "debt_settlement_flag_Y                        -0.003090   \n",
       "\n",
       "                            application_type_Joint App  hardship_flag_N  \\\n",
       "loan_amnt                                     0.147060        -0.059159   \n",
       "int_rate                                      0.069224        -0.044594   \n",
       "installment                                   0.134692        -0.064697   \n",
       "annual_inc                                   -0.035419        -0.002319   \n",
       "dti                                           0.245272        -0.006046   \n",
       "...                                                ...              ...   \n",
       "application_type_Joint App                    1.000000        -0.001594   \n",
       "hardship_flag_N                              -0.001594         1.000000   \n",
       "hardship_flag_Y                               0.001594        -1.000000   \n",
       "debt_settlement_flag_N                       -0.003090        -0.003475   \n",
       "debt_settlement_flag_Y                        0.003090         0.003475   \n",
       "\n",
       "                            hardship_flag_Y  debt_settlement_flag_N  \\\n",
       "loan_amnt                          0.059159                0.014014   \n",
       "int_rate                           0.044594                0.005293   \n",
       "installment                        0.064697                0.012859   \n",
       "annual_inc                         0.002319                0.000228   \n",
       "dti                                0.006046               -0.002410   \n",
       "...                                     ...                     ...   \n",
       "application_type_Joint App         0.001594               -0.003090   \n",
       "hardship_flag_N                   -1.000000               -0.003475   \n",
       "hardship_flag_Y                    1.000000                0.003475   \n",
       "debt_settlement_flag_N             0.003475                1.000000   \n",
       "debt_settlement_flag_Y            -0.003475               -1.000000   \n",
       "\n",
       "                            debt_settlement_flag_Y  \n",
       "loan_amnt                                -0.014014  \n",
       "int_rate                                 -0.005293  \n",
       "installment                              -0.012859  \n",
       "annual_inc                               -0.000228  \n",
       "dti                                       0.002410  \n",
       "...                                            ...  \n",
       "application_type_Joint App                0.003090  \n",
       "hardship_flag_N                           0.003475  \n",
       "hardship_flag_Y                          -0.003475  \n",
       "debt_settlement_flag_N                   -1.000000  \n",
       "debt_settlement_flag_Y                    1.000000  \n",
       "\n",
       "[92 rows x 92 columns]"
      ]
     },
     "execution_count": 24,
     "metadata": {},
     "output_type": "execute_result"
    }
   ],
   "source": [
    "X_train.corr()"
   ]
  },
  {
   "cell_type": "code",
   "execution_count": 25,
   "metadata": {},
   "outputs": [],
   "source": [
    "cor_matrix = X_train.corr().abs()"
   ]
  },
  {
   "cell_type": "code",
   "execution_count": 26,
   "metadata": {},
   "outputs": [
    {
     "name": "stdout",
     "output_type": "stream",
     "text": [
      "['installment', 'out_prncp', 'out_prncp_inv', 'total_pymnt_inv', 'total_rec_prncp', 'num_rev_tl_bal_gt_0', 'num_sats', 'num_tl_30dpd', 'pub_rec_bankruptcies', 'tot_hi_cred_lim', 'total_bal_ex_mort', 'total_il_high_credit_limit', 'initial_list_status_w', 'application_type_Joint App', 'hardship_flag_Y', 'debt_settlement_flag_Y']\n"
     ]
    }
   ],
   "source": [
    "upper_tri = cor_matrix.where(np.triu(np.ones(cor_matrix.shape),k=1).astype(np.bool))\n",
    "to_drop = [column for column in upper_tri.columns if any(upper_tri[column] > 0.90)]\n",
    "print(to_drop)"
   ]
  },
  {
   "cell_type": "code",
   "execution_count": 27,
   "metadata": {},
   "outputs": [
    {
     "data": {
      "text/plain": [
       "16"
      ]
     },
     "execution_count": 27,
     "metadata": {},
     "output_type": "execute_result"
    }
   ],
   "source": [
    "len(to_drop)"
   ]
  },
  {
   "cell_type": "code",
   "execution_count": 28,
   "metadata": {},
   "outputs": [],
   "source": [
    "X_train_drop=X_train.drop(to_drop,axis=1)\n",
    "X_test_drop=X_test.drop(to_drop,axis=1)"
   ]
  },
  {
   "cell_type": "markdown",
   "metadata": {},
   "source": [
    "Feature Scaling: Standarization, Normalization"
   ]
  },
  {
   "cell_type": "code",
   "execution_count": 29,
   "metadata": {
    "scrolled": true
   },
   "outputs": [],
   "source": [
    "# X_train, X_test, y_train, y_test = train_test_split(X_2019, y_2019, random_state=1)\n",
    "# Counter(y_train)\n",
    "scaler = StandardScaler().fit(X_train_drop)\n",
    "X_train_scaled = scaler.transform(X_train_drop)\n",
    "X_test_scaled = scaler.transform(X_test_drop)"
   ]
  },
  {
   "cell_type": "markdown",
   "metadata": {},
   "source": [
    "## Testing Model 1 : Logistic Regression "
   ]
  },
  {
   "cell_type": "markdown",
   "metadata": {},
   "source": [
    "### Unscaled Data"
   ]
  },
  {
   "cell_type": "code",
   "execution_count": 30,
   "metadata": {},
   "outputs": [
    {
     "data": {
      "text/plain": [
       "LogisticRegression(max_iter=1000)"
      ]
     },
     "execution_count": 30,
     "metadata": {},
     "output_type": "execute_result"
    }
   ],
   "source": [
    "# Train the Logistic Regression model on the unscaled data and print the model score\n",
    "classifier = LogisticRegression(max_iter=1000)\n",
    "classifier"
   ]
  },
  {
   "cell_type": "code",
   "execution_count": 31,
   "metadata": {
    "scrolled": true
   },
   "outputs": [
    {
     "name": "stderr",
     "output_type": "stream",
     "text": [
      "/opt/anaconda3/lib/python3.7/site-packages/sklearn/linear_model/_logistic.py:765: ConvergenceWarning: lbfgs failed to converge (status=1):\n",
      "STOP: TOTAL NO. of ITERATIONS REACHED LIMIT.\n",
      "\n",
      "Increase the number of iterations (max_iter) or scale the data as shown in:\n",
      "    https://scikit-learn.org/stable/modules/preprocessing.html\n",
      "Please also refer to the documentation for alternative solver options:\n",
      "    https://scikit-learn.org/stable/modules/linear_model.html#logistic-regression\n",
      "  extra_warning_msg=_LOGISTIC_SOLVER_CONVERGENCE_MSG)\n"
     ]
    },
    {
     "data": {
      "text/plain": [
       "LogisticRegression(max_iter=1000)"
      ]
     },
     "execution_count": 31,
     "metadata": {},
     "output_type": "execute_result"
    }
   ],
   "source": [
    "# Fit (train) our model by using the training data\n",
    "classifier.fit(X_train_drop, y_train)"
   ]
  },
  {
   "cell_type": "code",
   "execution_count": 32,
   "metadata": {},
   "outputs": [],
   "source": [
    "# Accuracy\n",
    "# REcall\n",
    "# Precision\n",
    "# F1-Score\n",
    "# R2 score"
   ]
  },
  {
   "cell_type": "code",
   "execution_count": 33,
   "metadata": {},
   "outputs": [],
   "source": [
    "from sklearn.metrics import accuracy_score"
   ]
  },
  {
   "cell_type": "code",
   "execution_count": 34,
   "metadata": {},
   "outputs": [],
   "source": [
    "y_pred=classifier.predict(X_test_drop)"
   ]
  },
  {
   "cell_type": "code",
   "execution_count": 35,
   "metadata": {},
   "outputs": [
    {
     "data": {
      "text/plain": [
       "0.6129306678009357"
      ]
     },
     "execution_count": 35,
     "metadata": {},
     "output_type": "execute_result"
    }
   ],
   "source": [
    "accuracy_score(y_test,y_pred)"
   ]
  },
  {
   "cell_type": "code",
   "execution_count": 36,
   "metadata": {},
   "outputs": [
    {
     "name": "stdout",
     "output_type": "stream",
     "text": [
      "Training Data Score: 0.6665845648604269\n",
      "Testing Data Score: 0.6129306678009357\n"
     ]
    }
   ],
   "source": [
    "# Validate the model by using the test data\n",
    "trainacc_log_unscaled=classifier.score(X_train_drop, y_train)\n",
    "testacc_log_unscaled=classifier.score(X_test_drop, y_test)\n",
    "print(f\"Training Data Score: {classifier.score(X_train_drop, y_train)}\")\n",
    "print(f\"Testing Data Score: {classifier.score(X_test_drop, y_test)}\")"
   ]
  },
  {
   "cell_type": "code",
   "execution_count": 37,
   "metadata": {},
   "outputs": [],
   "source": [
    "# Split into testing and training data"
   ]
  },
  {
   "cell_type": "code",
   "execution_count": 38,
   "metadata": {},
   "outputs": [],
   "source": [
    "from sklearn.metrics import classification_report,confusion_matrix"
   ]
  },
  {
   "cell_type": "code",
   "execution_count": 39,
   "metadata": {},
   "outputs": [],
   "source": [
    "tn, fp, fn, tp=confusion_matrix(y_test,y_pred).ravel()"
   ]
  },
  {
   "cell_type": "code",
   "execution_count": 40,
   "metadata": {},
   "outputs": [
    {
     "data": {
      "text/plain": [
       "array([[1061, 1290],\n",
       "       [ 530, 1821]])"
      ]
     },
     "execution_count": 40,
     "metadata": {},
     "output_type": "execute_result"
    }
   ],
   "source": [
    "confusion_matrix(y_test,y_pred)"
   ]
  },
  {
   "cell_type": "code",
   "execution_count": 41,
   "metadata": {},
   "outputs": [
    {
     "data": {
      "text/plain": [
       "(1061, 1290, 530, 1821)"
      ]
     },
     "execution_count": 41,
     "metadata": {},
     "output_type": "execute_result"
    }
   ],
   "source": [
    "tn,fp,fn,tp"
   ]
  },
  {
   "cell_type": "code",
   "execution_count": 42,
   "metadata": {},
   "outputs": [
    {
     "name": "stdout",
     "output_type": "stream",
     "text": [
      "              precision    recall  f1-score   support\n",
      "\n",
      "   high_risk       0.67      0.45      0.54      2351\n",
      "    low_risk       0.59      0.77      0.67      2351\n",
      "\n",
      "    accuracy                           0.61      4702\n",
      "   macro avg       0.63      0.61      0.60      4702\n",
      "weighted avg       0.63      0.61      0.60      4702\n",
      "\n"
     ]
    }
   ],
   "source": [
    "print(classification_report(y_test, y_pred, target_names=classifier.classes_))"
   ]
  },
  {
   "cell_type": "code",
   "execution_count": 45,
   "metadata": {},
   "outputs": [],
   "source": [
    "# get scores and classication report"
   ]
  },
  {
   "cell_type": "code",
   "execution_count": 46,
   "metadata": {},
   "outputs": [],
   "source": [
    "## Rinse and Repeat"
   ]
  },
  {
   "cell_type": "markdown",
   "metadata": {},
   "source": [
    "### Scaled Data"
   ]
  },
  {
   "cell_type": "code",
   "execution_count": 47,
   "metadata": {},
   "outputs": [
    {
     "data": {
      "text/plain": [
       "LogisticRegression(max_iter=1000)"
      ]
     },
     "execution_count": 47,
     "metadata": {},
     "output_type": "execute_result"
    }
   ],
   "source": [
    "classifier = LogisticRegression(max_iter=1000)\n",
    "classifier"
   ]
  },
  {
   "cell_type": "code",
   "execution_count": 48,
   "metadata": {},
   "outputs": [
    {
     "data": {
      "text/plain": [
       "LogisticRegression(max_iter=1000)"
      ]
     },
     "execution_count": 48,
     "metadata": {},
     "output_type": "execute_result"
    }
   ],
   "source": [
    "# Fit (train) our model by using the training data\n",
    "classifier.fit(X_train_scaled, y_train)"
   ]
  },
  {
   "cell_type": "code",
   "execution_count": 49,
   "metadata": {},
   "outputs": [],
   "source": [
    "y_pred_scaled=classifier.predict(X_test_scaled)"
   ]
  },
  {
   "cell_type": "code",
   "execution_count": 50,
   "metadata": {},
   "outputs": [
    {
     "name": "stdout",
     "output_type": "stream",
     "text": [
      "Training Data Score: 0.6859605911330049\n",
      "Testing Data Score: 0.6816248404934071\n"
     ]
    }
   ],
   "source": [
    "# Validate the model by using the test data\n",
    "trainacc_log_scaled=classifier.score(X_train_scaled, y_train)\n",
    "testacc_log_scaled=classifier.score(X_test_scaled, y_test)\n",
    "print(f\"Training Data Score: {classifier.score(X_train_scaled, y_train)}\")\n",
    "print(f\"Testing Data Score: {classifier.score(X_test_scaled, y_test)}\")"
   ]
  },
  {
   "cell_type": "code",
   "execution_count": 51,
   "metadata": {},
   "outputs": [
    {
     "data": {
      "text/plain": [
       "array([[1500,  851],\n",
       "       [ 646, 1705]])"
      ]
     },
     "execution_count": 51,
     "metadata": {},
     "output_type": "execute_result"
    }
   ],
   "source": [
    "confusion_matrix(y_test,y_pred_scaled)"
   ]
  },
  {
   "cell_type": "code",
   "execution_count": 52,
   "metadata": {},
   "outputs": [
    {
     "name": "stdout",
     "output_type": "stream",
     "text": [
      "              precision    recall  f1-score   support\n",
      "\n",
      "   high_risk       0.70      0.64      0.67      2351\n",
      "    low_risk       0.67      0.73      0.69      2351\n",
      "\n",
      "    accuracy                           0.68      4702\n",
      "   macro avg       0.68      0.68      0.68      4702\n",
      "weighted avg       0.68      0.68      0.68      4702\n",
      "\n"
     ]
    }
   ],
   "source": [
    "print(classification_report(y_test, y_pred_scaled, target_names=classifier.classes_))"
   ]
  },
  {
   "cell_type": "markdown",
   "metadata": {},
   "source": [
    "## Testing Model 2 : RandomForest"
   ]
  },
  {
   "cell_type": "markdown",
   "metadata": {},
   "source": [
    "### Unscaled Data"
   ]
  },
  {
   "cell_type": "code",
   "execution_count": 53,
   "metadata": {},
   "outputs": [
    {
     "name": "stdout",
     "output_type": "stream",
     "text": [
      "Training Score: 1.0\n",
      "Testing Score: 0.7103360272224585\n"
     ]
    }
   ],
   "source": [
    "# Train a Random Forest Classifier model on unscaled data and print the model score\n",
    "# Fit random forest and get training and testing score\n",
    "clf = RandomForestClassifier(random_state=1, n_estimators=500)\n",
    "clf.fit(X_train_drop, y_train)\n",
    "\n",
    "print(f'Training Score: {clf.score(X_train_drop, y_train)}')\n",
    "print(f'Testing Score: {clf.score(X_test_drop, y_test)}')"
   ]
  },
  {
   "cell_type": "code",
   "execution_count": 54,
   "metadata": {},
   "outputs": [],
   "source": [
    "trainacc_rf_unscaled=clf.score(X_train_drop, y_train)\n",
    "testacc_rf_unscaled=clf.score(X_test_drop, y_test)"
   ]
  },
  {
   "cell_type": "code",
   "execution_count": 55,
   "metadata": {},
   "outputs": [
    {
     "data": {
      "text/plain": [
       "array(['low_risk', 'low_risk', 'low_risk', ..., 'high_risk', 'low_risk',\n",
       "       'high_risk'], dtype=object)"
      ]
     },
     "execution_count": 55,
     "metadata": {},
     "output_type": "execute_result"
    }
   ],
   "source": [
    "predictions = clf.predict(X_test_drop)\n",
    "predictions"
   ]
  },
  {
   "cell_type": "code",
   "execution_count": 56,
   "metadata": {},
   "outputs": [
    {
     "data": {
      "text/plain": [
       "array([[1812,  539],\n",
       "       [ 823, 1528]])"
      ]
     },
     "execution_count": 56,
     "metadata": {},
     "output_type": "execute_result"
    }
   ],
   "source": [
    "confusion_matrix(y_test,predictions)"
   ]
  },
  {
   "cell_type": "code",
   "execution_count": 57,
   "metadata": {},
   "outputs": [
    {
     "name": "stdout",
     "output_type": "stream",
     "text": [
      "              precision    recall  f1-score   support\n",
      "\n",
      "   high_risk       0.69      0.77      0.73      2351\n",
      "    low_risk       0.74      0.65      0.69      2351\n",
      "\n",
      "    accuracy                           0.71      4702\n",
      "   macro avg       0.71      0.71      0.71      4702\n",
      "weighted avg       0.71      0.71      0.71      4702\n",
      "\n"
     ]
    }
   ],
   "source": [
    "from sklearn.metrics import classification_report\n",
    "print(classification_report(y_test, predictions,\n",
    "                            target_names=clf.classes_))"
   ]
  },
  {
   "cell_type": "markdown",
   "metadata": {},
   "source": [
    "### Scaled Data"
   ]
  },
  {
   "cell_type": "code",
   "execution_count": 58,
   "metadata": {},
   "outputs": [],
   "source": [
    "# scaler2=MinMaxScaler()\n",
    "# scaler2.fit(X_train)\n",
    "# X_train_norm=scaler2.transform(X_train)\n",
    "# X_test_norm=scaler2.transform(X_test)"
   ]
  },
  {
   "cell_type": "code",
   "execution_count": 59,
   "metadata": {},
   "outputs": [
    {
     "name": "stdout",
     "output_type": "stream",
     "text": [
      "Training Score: 1.0\n",
      "Testing Score: 0.7096980008507018\n"
     ]
    }
   ],
   "source": [
    "# Train a Random Forest Classifier model on the scaled data and print the model score\n",
    "# Fit random forest and get training and testing score\n",
    "clf = RandomForestClassifier(random_state=1,n_estimators=500)\n",
    "clf.fit(X_train_scaled, y_train)\n",
    "print(f'Training Score: {clf.score(X_train_scaled, y_train)}')\n",
    "print(f'Testing Score: {clf.score(X_test_scaled, y_test)}')\n"
   ]
  },
  {
   "cell_type": "code",
   "execution_count": 60,
   "metadata": {},
   "outputs": [],
   "source": [
    "trainacc_rf_scaled=clf.score(X_train_scaled, y_train)\n",
    "testacc_rf_scaled=clf.score(X_test_scaled, y_test)"
   ]
  },
  {
   "cell_type": "code",
   "execution_count": 61,
   "metadata": {},
   "outputs": [
    {
     "data": {
      "text/plain": [
       "array(['low_risk', 'low_risk', 'low_risk', ..., 'high_risk', 'low_risk',\n",
       "       'high_risk'], dtype=object)"
      ]
     },
     "execution_count": 61,
     "metadata": {},
     "output_type": "execute_result"
    }
   ],
   "source": [
    "predictions = clf.predict(X_test_scaled)\n",
    "predictions"
   ]
  },
  {
   "cell_type": "code",
   "execution_count": 62,
   "metadata": {},
   "outputs": [
    {
     "data": {
      "text/plain": [
       "array([[1810,  541],\n",
       "       [ 824, 1527]])"
      ]
     },
     "execution_count": 62,
     "metadata": {},
     "output_type": "execute_result"
    }
   ],
   "source": [
    "confusion_matrix(y_test,predictions)"
   ]
  },
  {
   "cell_type": "code",
   "execution_count": 63,
   "metadata": {},
   "outputs": [
    {
     "name": "stdout",
     "output_type": "stream",
     "text": [
      "              precision    recall  f1-score   support\n",
      "\n",
      "   high_risk       0.69      0.77      0.73      2351\n",
      "    low_risk       0.74      0.65      0.69      2351\n",
      "\n",
      "    accuracy                           0.71      4702\n",
      "   macro avg       0.71      0.71      0.71      4702\n",
      "weighted avg       0.71      0.71      0.71      4702\n",
      "\n"
     ]
    }
   ],
   "source": [
    "# Calculate classification report\n",
    "from sklearn.metrics import classification_report\n",
    "print(classification_report(y_test, predictions,\n",
    "                            target_names=[\"high_risk\", \"low_risk\"]))"
   ]
  },
  {
   "cell_type": "markdown",
   "metadata": {},
   "source": [
    "Assumptions before training:\n",
    "- Random Forest will output better results (higher train and test accuracies) due to the model complexity, and due to the simplicity of Logistic Regression.\n",
    "- Random Forest could potentially overfit the train data, which could lead to a bad performance on new data (test set)\n",
    "- Due to the simplicity of Logictic Regression, the accuracies won't be good."
   ]
  },
  {
   "cell_type": "code",
   "execution_count": 64,
   "metadata": {},
   "outputs": [],
   "source": [
    "data=[['Logistic Regression Unscaled',trainacc_log_unscaled,testacc_log_unscaled],['Logistic Regression Scaled',trainacc_log_scaled,testacc_log_scaled],\n",
    "      ['Random Forest Unscaled',trainacc_rf_unscaled,testacc_rf_unscaled],['Random Forest Scaled',trainacc_rf_scaled,testacc_rf_scaled]]"
   ]
  },
  {
   "cell_type": "code",
   "execution_count": 65,
   "metadata": {},
   "outputs": [],
   "source": [
    "df=pd.DataFrame(data,columns=['Model','Train Accuracy','Test Accuracy'])"
   ]
  },
  {
   "cell_type": "code",
   "execution_count": 66,
   "metadata": {},
   "outputs": [
    {
     "data": {
      "text/html": [
       "<div>\n",
       "<style scoped>\n",
       "    .dataframe tbody tr th:only-of-type {\n",
       "        vertical-align: middle;\n",
       "    }\n",
       "\n",
       "    .dataframe tbody tr th {\n",
       "        vertical-align: top;\n",
       "    }\n",
       "\n",
       "    .dataframe thead th {\n",
       "        text-align: right;\n",
       "    }\n",
       "</style>\n",
       "<table border=\"1\" class=\"dataframe\">\n",
       "  <thead>\n",
       "    <tr style=\"text-align: right;\">\n",
       "      <th></th>\n",
       "      <th>Model</th>\n",
       "      <th>Train Accuracy</th>\n",
       "      <th>Test Accuracy</th>\n",
       "    </tr>\n",
       "  </thead>\n",
       "  <tbody>\n",
       "    <tr>\n",
       "      <th>0</th>\n",
       "      <td>Logistic Regression Unscaled</td>\n",
       "      <td>0.666585</td>\n",
       "      <td>0.612931</td>\n",
       "    </tr>\n",
       "    <tr>\n",
       "      <th>1</th>\n",
       "      <td>Logistic Regression Scaled</td>\n",
       "      <td>0.685961</td>\n",
       "      <td>0.681625</td>\n",
       "    </tr>\n",
       "    <tr>\n",
       "      <th>2</th>\n",
       "      <td>Random Forest Unscaled</td>\n",
       "      <td>1.000000</td>\n",
       "      <td>0.710336</td>\n",
       "    </tr>\n",
       "    <tr>\n",
       "      <th>3</th>\n",
       "      <td>Random Forest Scaled</td>\n",
       "      <td>1.000000</td>\n",
       "      <td>0.709698</td>\n",
       "    </tr>\n",
       "  </tbody>\n",
       "</table>\n",
       "</div>"
      ],
      "text/plain": [
       "                          Model  Train Accuracy  Test Accuracy\n",
       "0  Logistic Regression Unscaled        0.666585       0.612931\n",
       "1    Logistic Regression Scaled        0.685961       0.681625\n",
       "2        Random Forest Unscaled        1.000000       0.710336\n",
       "3          Random Forest Scaled        1.000000       0.709698"
      ]
     },
     "execution_count": 66,
     "metadata": {},
     "output_type": "execute_result"
    }
   ],
   "source": [
    "df"
   ]
  },
  {
   "cell_type": "code",
   "execution_count": null,
   "metadata": {},
   "outputs": [],
   "source": []
  }
 ],
 "metadata": {
  "kernelspec": {
   "display_name": "Python 3",
   "language": "python",
   "name": "python3"
  },
  "language_info": {
   "codemirror_mode": {
    "name": "ipython",
    "version": 3
   },
   "file_extension": ".py",
   "mimetype": "text/x-python",
   "name": "python",
   "nbconvert_exporter": "python",
   "pygments_lexer": "ipython3",
   "version": "3.8.8"
  }
 },
 "nbformat": 4,
 "nbformat_minor": 4
}
